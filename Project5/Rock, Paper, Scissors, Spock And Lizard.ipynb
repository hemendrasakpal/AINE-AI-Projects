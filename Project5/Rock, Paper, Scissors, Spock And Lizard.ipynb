{
 "cells": [
  {
   "cell_type": "markdown",
   "metadata": {},
   "source": [
    "### Rock, Paper, Scissors, Spock and Lizard"
   ]
  },
  {
   "cell_type": "code",
   "execution_count": 3,
   "metadata": {},
   "outputs": [],
   "source": [
    "# Import python's random library\n",
    "import random"
   ]
  },
  {
   "cell_type": "code",
   "execution_count": 4,
   "metadata": {},
   "outputs": [
    {
     "name": "stdout",
     "output_type": "stream",
     "text": [
      "Enter the number rounds you want to play\n",
      "3\n",
      "Choose your weapon\n",
      "dasdas\n",
      "Please use a valid weapon\n",
      "Enter the number rounds you want to play\n",
      "3\n",
      "Choose your weapon\n",
      "rock\n",
      "Rock vs Scissors\n",
      "\n",
      "Choose your weapon\n",
      "paper\n",
      "Paper vs Spock\n",
      "\n",
      "Choose your weapon\n",
      "lizard\n",
      "Lizard vs Rock\n",
      "\n",
      "Your score 2\n",
      "Computer's score 1\n"
     ]
    },
    {
     "data": {
      "text/plain": [
       "'You won'"
      ]
     },
     "execution_count": 4,
     "metadata": {},
     "output_type": "execute_result"
    }
   ],
   "source": [
    "def game():\n",
    "# Define a list of weapons for the computer to select from\n",
    "        weapons = [\"Rock\", \"Scissors\", \"Paper\", \"Spock\", \"Lizard\"]\n",
    "# Ask user the to enter the number of rounds they want to play\n",
    "        numberofRounds = int(input(\"Enter the number rounds you want to play\\n\"))\n",
    "# Initiate variable for the while loop\n",
    "        i = 1\n",
    "# Set computer and user's score to 0\n",
    "\n",
    "        computerScore = userScore = 0\n",
    "    \n",
    "        while i <= numberofRounds:\n",
    "\n",
    "            # Ask the user to select their weapon for each round\n",
    "            userWeapon = input(\"Choose your weapon\\n\")\n",
    "    \n",
    "            # Get a random number between the range of 0 to 4 \n",
    "            num = random.randrange(0,5)\n",
    "            \n",
    "            # Use the randomly generated number to select a weapon for the computer from the weapons list \n",
    "            computerWeapon = weapons[num]\n",
    "            \n",
    "            # Capitalize the user selected weapon and reassign it to the  variable \n",
    "            userWeapon = userWeapon.capitalize()\n",
    "            \n",
    "            # Print the user's and computer's selected weapons             \n",
    "#             print(userWeapon + ' vs ' + computerWeapon + '\\n')\n",
    "            \n",
    "            # Conditional statements to check if user wins or loses a round\n",
    "            # If user wins the round increment their score by 1 and if computer \n",
    "            # wins the computer wins increment the computer's score by 1. For draw \n",
    "            # and weapons that do not effect on each other \n",
    "            # no score is incremented.\n",
    "            \n",
    "            if(userWeapon == 'Rock'):\n",
    "                    if(computerWeapon == \"Scissors\" or computerWeapon == \"Lizard\"):\n",
    "                        userScore += 1  \n",
    "                    elif(computerWeapon == \"Paper\" or computerWeapon == \"Spock\"):\n",
    "                        computerScore += 1\n",
    "\n",
    "            elif(userWeapon == 'Paper'):\n",
    "                    if(computerWeapon == \"Spock\" or computerWeapon == \"Rock\"):\n",
    "                        userScore += 1  \n",
    "                    elif(computerWeapon == \"Scissors\" or computerWeapon == \"Lizard\"):\n",
    "                        computerScore += 1\n",
    "\n",
    "            elif(userWeapon == 'Scissors'):\n",
    "                    if(computerWeapon == \"Paper\" or computerWeapon == \"Lizard\"):\n",
    "                        userScore += 1  \n",
    "                    elif(computerWeapon == \"Rock\" or computerWeapon == \"Spock\"):\n",
    "                        computerScore += 1\n",
    "\n",
    "            elif(userWeapon == 'Spock'):\n",
    "                    if(computerWeapon == \"Scissors\" or computerWeapon == \"Rock\"):\n",
    "                        userScore += 1  \n",
    "                    elif(computerWeapon == \"Paper\" or computerWeapon == \"Lizard\"):\n",
    "                        computerScore += 1\n",
    "\n",
    "            elif(userWeapon == 'Lizard'):\n",
    "                    if(computerWeapon == \"Paper\" or computerWeapon == \"Spock\"):\n",
    "                        userScore += 1  \n",
    "                    elif(computerWeapon == \"Rock\" or computerWeapon == \"Scissors\"):\n",
    "                        computerScore += 1\n",
    "            else:\n",
    "                print(\"Please use a valid weapon\")\n",
    "                return game()\n",
    "            # Increment the while loop counter by 1 \n",
    "            print(userWeapon + ' vs ' + computerWeapon + '\\n')\n",
    "            i += 1\n",
    "            \n",
    "        # Print user's and computer's score    \n",
    "        print(\"Your score {}\".format(userScore))\n",
    "        print(\"Computer\\'s score {}\".format(computerScore))\n",
    "        \n",
    "        # Print the result of the match\n",
    "        if(userScore > computerScore):\n",
    "            return (\"You won\")\n",
    "        elif(userScore < computerScore):\n",
    "            return (\"You lose\")\n",
    "        elif(userScore == computerScore):\n",
    "            return (\"The match is a draw\")\n",
    "\n",
    "# Call the game function        \n",
    "game()             "
   ]
  },
  {
   "cell_type": "code",
   "execution_count": null,
   "metadata": {},
   "outputs": [],
   "source": []
  }
 ],
 "metadata": {
  "kernelspec": {
   "display_name": "Python 3",
   "language": "python",
   "name": "python3"
  },
  "language_info": {
   "codemirror_mode": {
    "name": "ipython",
    "version": 3
   },
   "file_extension": ".py",
   "mimetype": "text/x-python",
   "name": "python",
   "nbconvert_exporter": "python",
   "pygments_lexer": "ipython3",
   "version": "3.8.3"
  }
 },
 "nbformat": 4,
 "nbformat_minor": 4
}
